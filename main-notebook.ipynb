{
 "cells": [
  {
   "cell_type": "code",
   "execution_count": 1,
   "metadata": {},
   "outputs": [],
   "source": [
    "import pandas as pd\n",
    "import numpy as np\n",
    "from sklearn.preprocessing import StandardScaler, MinMaxScaler\n",
    "from sklearn.model_selection import train_test_split, GridSearchCV, KFold\n",
    "from sklearn.neighbors import KNeighborsClassifier\n",
    "from sklearn.svm import SVC\n",
    "from sklearn.metrics import classification_report, confusion_matrix, recall_score, f1_score\n",
    "from sklearn.ensemble import RandomForestClassifier\n",
    "from sklearn.metrics import accuracy_score, confusion_matrix, precision_score, recall_score, f1_score, ConfusionMatrixDisplay\n",
    "from sklearn.model_selection import RandomizedSearchCV, train_test_split"
   ]
  },
  {
   "cell_type": "markdown",
   "metadata": {},
   "source": [
    "# Pre-Processing"
   ]
  },
  {
   "cell_type": "code",
   "execution_count": 2,
   "metadata": {},
   "outputs": [
    {
     "data": {
      "text/html": [
       "<div>\n",
       "<style scoped>\n",
       "    .dataframe tbody tr th:only-of-type {\n",
       "        vertical-align: middle;\n",
       "    }\n",
       "\n",
       "    .dataframe tbody tr th {\n",
       "        vertical-align: top;\n",
       "    }\n",
       "\n",
       "    .dataframe thead th {\n",
       "        text-align: right;\n",
       "    }\n",
       "</style>\n",
       "<table border=\"1\" class=\"dataframe\">\n",
       "  <thead>\n",
       "    <tr style=\"text-align: right;\">\n",
       "      <th></th>\n",
       "      <th>rms_feat</th>\n",
       "      <th>integral_signal</th>\n",
       "      <th>zero_crossings</th>\n",
       "      <th>waveform_length</th>\n",
       "      <th>auto_regressive_coefficients</th>\n",
       "      <th>temporal_moment</th>\n",
       "      <th>avg_amp_change</th>\n",
       "      <th>min_value</th>\n",
       "      <th>max_value</th>\n",
       "      <th>variance</th>\n",
       "      <th>log_detector</th>\n",
       "      <th>linear_env</th>\n",
       "      <th>v_order</th>\n",
       "      <th>modified_mav</th>\n",
       "      <th>skewness</th>\n",
       "      <th>fourier_series</th>\n",
       "      <th>status</th>\n",
       "    </tr>\n",
       "  </thead>\n",
       "  <tbody>\n",
       "    <tr>\n",
       "      <th>0</th>\n",
       "      <td>0.181467</td>\n",
       "      <td>2.458629</td>\n",
       "      <td>9.000000</td>\n",
       "      <td>14.999088</td>\n",
       "      <td>0.112136</td>\n",
       "      <td>0.040264</td>\n",
       "      <td>0.072811</td>\n",
       "      <td>-0.173261</td>\n",
       "      <td>0.125012</td>\n",
       "      <td>0.009854</td>\n",
       "      <td>0.045373</td>\n",
       "      <td>0.643452</td>\n",
       "      <td>-0.040235</td>\n",
       "      <td>0.097932</td>\n",
       "      <td>-2.779578</td>\n",
       "      <td>0.001135</td>\n",
       "      <td>1</td>\n",
       "    </tr>\n",
       "    <tr>\n",
       "      <th>1</th>\n",
       "      <td>0.091098</td>\n",
       "      <td>1.225373</td>\n",
       "      <td>11.333333</td>\n",
       "      <td>8.493909</td>\n",
       "      <td>0.113538</td>\n",
       "      <td>0.005682</td>\n",
       "      <td>0.041033</td>\n",
       "      <td>-0.100648</td>\n",
       "      <td>0.062292</td>\n",
       "      <td>0.002716</td>\n",
       "      <td>0.024587</td>\n",
       "      <td>0.637681</td>\n",
       "      <td>-0.005677</td>\n",
       "      <td>0.049322</td>\n",
       "      <td>-3.008738</td>\n",
       "      <td>0.000582</td>\n",
       "      <td>0</td>\n",
       "    </tr>\n",
       "    <tr>\n",
       "      <th>2</th>\n",
       "      <td>0.115747</td>\n",
       "      <td>1.685769</td>\n",
       "      <td>9.666667</td>\n",
       "      <td>11.712176</td>\n",
       "      <td>0.110252</td>\n",
       "      <td>0.022562</td>\n",
       "      <td>0.057133</td>\n",
       "      <td>-0.136661</td>\n",
       "      <td>0.079951</td>\n",
       "      <td>0.005886</td>\n",
       "      <td>0.033667</td>\n",
       "      <td>0.625835</td>\n",
       "      <td>-0.022547</td>\n",
       "      <td>0.071522</td>\n",
       "      <td>-3.327338</td>\n",
       "      <td>0.000819</td>\n",
       "      <td>1</td>\n",
       "    </tr>\n",
       "    <tr>\n",
       "      <th>3</th>\n",
       "      <td>0.078959</td>\n",
       "      <td>1.177512</td>\n",
       "      <td>10.000000</td>\n",
       "      <td>7.179359</td>\n",
       "      <td>0.124593</td>\n",
       "      <td>0.003710</td>\n",
       "      <td>0.035366</td>\n",
       "      <td>-0.086914</td>\n",
       "      <td>0.058312</td>\n",
       "      <td>0.002570</td>\n",
       "      <td>0.029398</td>\n",
       "      <td>0.676005</td>\n",
       "      <td>-0.003698</td>\n",
       "      <td>0.048990</td>\n",
       "      <td>-2.305951</td>\n",
       "      <td>0.000563</td>\n",
       "      <td>0</td>\n",
       "    </tr>\n",
       "    <tr>\n",
       "      <th>4</th>\n",
       "      <td>0.074216</td>\n",
       "      <td>1.071029</td>\n",
       "      <td>11.000000</td>\n",
       "      <td>7.232317</td>\n",
       "      <td>0.108869</td>\n",
       "      <td>0.003398</td>\n",
       "      <td>0.035280</td>\n",
       "      <td>-0.086399</td>\n",
       "      <td>0.046381</td>\n",
       "      <td>0.001836</td>\n",
       "      <td>0.018263</td>\n",
       "      <td>0.612602</td>\n",
       "      <td>-0.003396</td>\n",
       "      <td>0.040740</td>\n",
       "      <td>-3.068989</td>\n",
       "      <td>0.000471</td>\n",
       "      <td>1</td>\n",
       "    </tr>\n",
       "  </tbody>\n",
       "</table>\n",
       "</div>"
      ],
      "text/plain": [
       "   rms_feat  integral_signal  zero_crossings  waveform_length  \\\n",
       "0  0.181467         2.458629        9.000000        14.999088   \n",
       "1  0.091098         1.225373       11.333333         8.493909   \n",
       "2  0.115747         1.685769        9.666667        11.712176   \n",
       "3  0.078959         1.177512       10.000000         7.179359   \n",
       "4  0.074216         1.071029       11.000000         7.232317   \n",
       "\n",
       "   auto_regressive_coefficients  temporal_moment  avg_amp_change  min_value  \\\n",
       "0                      0.112136         0.040264        0.072811  -0.173261   \n",
       "1                      0.113538         0.005682        0.041033  -0.100648   \n",
       "2                      0.110252         0.022562        0.057133  -0.136661   \n",
       "3                      0.124593         0.003710        0.035366  -0.086914   \n",
       "4                      0.108869         0.003398        0.035280  -0.086399   \n",
       "\n",
       "   max_value  variance  log_detector  linear_env   v_order  modified_mav  \\\n",
       "0   0.125012  0.009854      0.045373    0.643452 -0.040235      0.097932   \n",
       "1   0.062292  0.002716      0.024587    0.637681 -0.005677      0.049322   \n",
       "2   0.079951  0.005886      0.033667    0.625835 -0.022547      0.071522   \n",
       "3   0.058312  0.002570      0.029398    0.676005 -0.003698      0.048990   \n",
       "4   0.046381  0.001836      0.018263    0.612602 -0.003396      0.040740   \n",
       "\n",
       "   skewness  fourier_series  status  \n",
       "0 -2.779578        0.001135       1  \n",
       "1 -3.008738        0.000582       0  \n",
       "2 -3.327338        0.000819       1  \n",
       "3 -2.305951        0.000563       0  \n",
       "4 -3.068989        0.000471       1  "
      ]
     },
     "execution_count": 2,
     "metadata": {},
     "output_type": "execute_result"
    }
   ],
   "source": [
    "df = pd.read_csv('downsized_dataset.csv')\n",
    "df.head()"
   ]
  },
  {
   "cell_type": "code",
   "execution_count": 3,
   "metadata": {},
   "outputs": [
    {
     "name": "stdout",
     "output_type": "stream",
     "text": [
      "(40000, 17)\n",
      "rms_feat                        0\n",
      "integral_signal                 0\n",
      "zero_crossings                  0\n",
      "waveform_length                 0\n",
      "auto_regressive_coefficients    0\n",
      "temporal_moment                 0\n",
      "avg_amp_change                  0\n",
      "min_value                       0\n",
      "max_value                       0\n",
      "variance                        0\n",
      "log_detector                    0\n",
      "linear_env                      0\n",
      "v_order                         0\n",
      "modified_mav                    0\n",
      "skewness                        0\n",
      "fourier_series                  0\n",
      "status                          0\n",
      "dtype: int64\n"
     ]
    }
   ],
   "source": [
    "print(df.shape)\n",
    "print(df.isna().sum())"
   ]
  },
  {
   "cell_type": "code",
   "execution_count": 4,
   "metadata": {},
   "outputs": [],
   "source": [
    "x = df.drop('status', axis = 1)\n",
    "y = df['status']\n",
    "x_train, x_test, y_train, y_test = train_test_split(x, y , random_state = 2, test_size=0.3)"
   ]
  },
  {
   "cell_type": "markdown",
   "metadata": {},
   "source": [
    "# Models"
   ]
  },
  {
   "cell_type": "markdown",
   "metadata": {},
   "source": [
    "## Random Forest"
   ]
  },
  {
   "cell_type": "code",
   "execution_count": 5,
   "metadata": {},
   "outputs": [],
   "source": [
    "# Define the parameter grid to search\n",
    "param_grid = {\n",
    "    'n_estimators': [100, 200, 300],\n",
    "    'max_depth': [None, 10, 20],\n",
    "    'min_samples_split': [2, 5, 10],\n",
    "    'min_samples_leaf': [1, 2, 4, 6, 8]\n",
    "}\n",
    "\n",
    "# Initialize Random Forest classifier\n",
    "random_forest = RandomForestClassifier(random_state=4, class_weight='balanced')\n",
    "\n",
    "kf = KFold(n_splits = 5, shuffle = True, random_state = 10)\n",
    "\n",
    "# Initialize GridSearchCV\n",
    "grid_search_RF = GridSearchCV(estimator=random_forest, param_grid=param_grid, cv=kf, n_jobs=-1, verbose=2)"
   ]
  },
  {
   "cell_type": "code",
   "execution_count": 6,
   "metadata": {},
   "outputs": [
    {
     "name": "stdout",
     "output_type": "stream",
     "text": [
      "Fitting 5 folds for each of 135 candidates, totalling 675 fits\n",
      "Optimal number of params: {'max_depth': None, 'min_samples_leaf': 1, 'min_samples_split': 2, 'n_estimators': 200}\n",
      "Best score: 0.9803571428571429\n"
     ]
    }
   ],
   "source": [
    "grid_search_RF.fit(x_train, y_train)\n",
    "\n",
    "RF_standard_noFeaturesRemoved_best_params = grid_search_RF.best_params_\n",
    "RF_standard_noFeaturesRemoved_best_score = grid_search_RF.best_score_\n",
    "\n",
    "print('Optimal number of params:', RF_standard_noFeaturesRemoved_best_params)\n",
    "print('Best score:', RF_standard_noFeaturesRemoved_best_score)"
   ]
  },
  {
   "cell_type": "code",
   "execution_count": 7,
   "metadata": {},
   "outputs": [
    {
     "name": "stdout",
     "output_type": "stream",
     "text": [
      "Accuracy of Random Forest classifier: 0.9833333333333333\n",
      "Recall of Random Forest classifier: 0.9845420161157704\n",
      "F1 Score of Random Forest classifier: 0.9835715459175292\n",
      "Classification Report:\n",
      "              precision    recall  f1-score   support\n",
      "\n",
      "           0       0.98      0.98      0.98      5919\n",
      "           1       0.98      0.98      0.98      6081\n",
      "\n",
      "    accuracy                           0.98     12000\n",
      "   macro avg       0.98      0.98      0.98     12000\n",
      "weighted avg       0.98      0.98      0.98     12000\n",
      "\n",
      "Confusion Matrix:\n",
      "[[5813  106]\n",
      " [  94 5987]]\n"
     ]
    }
   ],
   "source": [
    "# Predict on the test set\n",
    "y_pred_rf = grid_search_RF.predict(x_test)\n",
    "\n",
    "# Evaluate the model\n",
    "accuracy_rf_1 = accuracy_score(y_test, y_pred_rf)\n",
    "print(\"Accuracy of Random Forest classifier:\", accuracy_rf_1)\n",
    "recall_rf_1 = recall_score(y_test, y_pred_rf)\n",
    "print(\"Recall of Random Forest classifier:\", recall_rf_1)\n",
    "f1score_rf_1 = f1_score(y_test, y_pred_rf)\n",
    "print(\"F1 Score of Random Forest classifier:\", f1score_rf_1)\n",
    "\n",
    "# Display classification report and confusion matrix\n",
    "print(\"Classification Report:\")\n",
    "print(classification_report(y_test, y_pred_rf))\n",
    "print(\"Confusion Matrix:\")\n",
    "print(confusion_matrix(y_test, y_pred_rf))"
   ]
  },
  {
   "cell_type": "markdown",
   "metadata": {},
   "source": [
    "## SVM"
   ]
  },
  {
   "cell_type": "code",
   "execution_count": 8,
   "metadata": {},
   "outputs": [],
   "source": [
    "svm = SVC()\n",
    "\n",
    "kf = KFold(n_splits = 5, shuffle = True, random_state = 42)\n",
    "param_grid = {'C': [0.0001, 0.001, 0.1, 1],\n",
    "              'gamma': [0.01, 0.1, 1, 10],\n",
    "              'kernel': ['linear', 'rbf']}\n",
    "\n",
    "svm_gridsearchcv = GridSearchCV(svm, param_grid, cv=kf )"
   ]
  },
  {
   "cell_type": "code",
   "execution_count": 9,
   "metadata": {},
   "outputs": [
    {
     "name": "stdout",
     "output_type": "stream",
     "text": [
      "Optimal params: {'C': 1, 'gamma': 10, 'kernel': 'rbf'}\n",
      "Best score: 0.8963214285714287\n"
     ]
    }
   ],
   "source": [
    "svm_gridsearchcv.fit(x_train, y_train)\n",
    "\n",
    "svm_standard_noFeaturesRemoved_best_params = svm_gridsearchcv.best_params_\n",
    "svm_standard_noFeaturesRemoved_best_score = svm_gridsearchcv.best_score_\n",
    "\n",
    "print('Optimal params:', svm_standard_noFeaturesRemoved_best_params)\n",
    "print('Best score:', svm_standard_noFeaturesRemoved_best_score)"
   ]
  },
  {
   "cell_type": "code",
   "execution_count": 10,
   "metadata": {},
   "outputs": [
    {
     "name": "stdout",
     "output_type": "stream",
     "text": [
      "Accuracy of SVM classifier: 0.9045833333333333\n",
      "Recall of SVM classifier: 0.8840651208682783\n",
      "F1 of SVM: 0.9037572497268219\n",
      "\n",
      "Confusion Matrix:\n",
      "[[5479  440]\n",
      " [ 705 5376]]\n",
      "\n",
      "Classification Report:\n",
      "              precision    recall  f1-score   support\n",
      "\n",
      "           0       0.89      0.93      0.91      5919\n",
      "           1       0.92      0.88      0.90      6081\n",
      "\n",
      "    accuracy                           0.90     12000\n",
      "   macro avg       0.91      0.90      0.90     12000\n",
      "weighted avg       0.91      0.90      0.90     12000\n",
      "\n"
     ]
    }
   ],
   "source": [
    "y_pred = svm_gridsearchcv.predict(x_test)\n",
    "\n",
    "svm_standard_noFeaturesRemoved_accuracy_score = svm_gridsearchcv.score(x_test, y_test)\n",
    "print('Accuracy of SVM classifier:', svm_standard_noFeaturesRemoved_accuracy_score)\n",
    "\n",
    "svm_standard_noFeaturesRemoved_recall_score = recall_score(y_test, y_pred)\n",
    "print(\"Recall of SVM classifier:\", svm_standard_noFeaturesRemoved_recall_score)\n",
    "\n",
    "svm_standard_noFeaturesRemoved_f1_score = f1_score(y_test, y_pred)\n",
    "print(\"F1 of SVM:\", svm_standard_noFeaturesRemoved_f1_score)\n",
    "\n",
    "print('\\nConfusion Matrix:')\n",
    "print(confusion_matrix(y_test, y_pred))\n",
    "print('\\nClassification Report:')\n",
    "print(classification_report(y_test, y_pred))"
   ]
  },
  {
   "cell_type": "markdown",
   "metadata": {},
   "source": [
    "# Logistic Regression"
   ]
  },
  {
   "cell_type": "code",
   "execution_count": 11,
   "metadata": {},
   "outputs": [],
   "source": [
    "from sklearn.linear_model import LogisticRegression\n",
    "from sklearn.model_selection import train_test_split, GridSearchCV\n",
    "from sklearn.metrics import accuracy_score, confusion_matrix\n",
    "from scipy.stats import uniform"
   ]
  },
  {
   "cell_type": "code",
   "execution_count": 12,
   "metadata": {},
   "outputs": [],
   "source": [
    "logistic_regression = LogisticRegression(max_iter=1000)\n",
    "\n",
    "param_grid = [\n",
    "    {'solver' : ['newton-cg'],\n",
    "      'penalty' : ['l2'],\n",
    "      'max_iter' : [50,100,200,500,1000,2500],\n",
    "      'C' : [0.001, 0.01, 0.1, 1, 10, 100, 1000]},\n",
    "]\n",
    "\n",
    "kf = KFold(n_splits = 5, shuffle = True, random_state = 4)\n",
    "\n",
    "logistic_regression_grid_search = GridSearchCV(logistic_regression, param_grid=param_grid, cv=kf, error_score='raise')"
   ]
  },
  {
   "cell_type": "code",
   "execution_count": 13,
   "metadata": {},
   "outputs": [
    {
     "name": "stdout",
     "output_type": "stream",
     "text": [
      "Optimal number of params: {'C': 100, 'max_iter': 50, 'penalty': 'l2', 'solver': 'newton-cg'}\n",
      "Best score: 0.7999285714285713\n"
     ]
    }
   ],
   "source": [
    "logistic_regression_grid_search.fit(x_train, y_train)\n",
    "\n",
    "logistic_regression_standard_noFeaturesRemoved_best_params = logistic_regression_grid_search.best_params_\n",
    "logistic_regression_standard_noFeaturesRemoved_best_score = logistic_regression_grid_search.best_score_\n",
    "\n",
    "print('Optimal number of params:', logistic_regression_standard_noFeaturesRemoved_best_params)\n",
    "print('Best score:', logistic_regression_standard_noFeaturesRemoved_best_score)"
   ]
  },
  {
   "cell_type": "code",
   "execution_count": 14,
   "metadata": {},
   "outputs": [
    {
     "name": "stdout",
     "output_type": "stream",
     "text": [
      "Accuracy of Logistic Regression classifier: 0.7988333333333333\n",
      "Recall of Logistic Regression classifier: 0.7932905772076961\n",
      "F1 Score of Logistic Regression classifier: 0.7998673520145912\n",
      "Classification Report:\n",
      "              precision    recall  f1-score   support\n",
      "\n",
      "           0       0.79      0.80      0.80      5919\n",
      "           1       0.81      0.79      0.80      6081\n",
      "\n",
      "    accuracy                           0.80     12000\n",
      "   macro avg       0.80      0.80      0.80     12000\n",
      "weighted avg       0.80      0.80      0.80     12000\n",
      "\n",
      "Confusion Matrix:\n",
      "[[4762 1157]\n",
      " [1257 4824]]\n"
     ]
    }
   ],
   "source": [
    "# Predict on the test set\n",
    "y_pred_logistic_regression = logistic_regression_grid_search.predict(x_test)\n",
    "\n",
    "# Evaluate the model\n",
    "accuracy_logreg_1 = accuracy_score(y_test, y_pred_logistic_regression)\n",
    "print(\"Accuracy of Logistic Regression classifier:\", accuracy_logreg_1)\n",
    "recall_logreg_1 = recall_score(y_test, y_pred_logistic_regression)\n",
    "print(\"Recall of Logistic Regression classifier:\", recall_logreg_1)\n",
    "f1score_logreg_1 = f1_score(y_test, y_pred_logistic_regression)\n",
    "print(\"F1 Score of Logistic Regression classifier:\", f1score_logreg_1)\n",
    "\n",
    "# Display classification report and confusion matrix\n",
    "print(\"Classification Report:\")\n",
    "print(classification_report(y_test, y_pred_logistic_regression))\n",
    "print(\"Confusion Matrix:\")\n",
    "print(confusion_matrix(y_test, y_pred_logistic_regression))"
   ]
  }
 ],
 "metadata": {
  "kernelspec": {
   "display_name": ".venv",
   "language": "python",
   "name": "python3"
  },
  "language_info": {
   "codemirror_mode": {
    "name": "ipython",
    "version": 3
   },
   "file_extension": ".py",
   "mimetype": "text/x-python",
   "name": "python",
   "nbconvert_exporter": "python",
   "pygments_lexer": "ipython3",
   "version": "3.11.4"
  }
 },
 "nbformat": 4,
 "nbformat_minor": 2
}
