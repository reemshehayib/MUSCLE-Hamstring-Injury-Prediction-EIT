{
 "cells": [
  {
   "cell_type": "code",
   "execution_count": 8,
   "metadata": {},
   "outputs": [
    {
     "ename": "ModuleNotFoundError",
     "evalue": "No module named 'sklearn'",
     "output_type": "error",
     "traceback": [
      "\u001b[31m---------------------------------------------------------------------------\u001b[39m",
      "\u001b[31mModuleNotFoundError\u001b[39m                       Traceback (most recent call last)",
      "\u001b[36mCell\u001b[39m\u001b[36m \u001b[39m\u001b[32mIn[8]\u001b[39m\u001b[32m, line 3\u001b[39m\n\u001b[32m      1\u001b[39m \u001b[38;5;28;01mimport\u001b[39;00m\u001b[38;5;250m \u001b[39m\u001b[34;01mpandas\u001b[39;00m\u001b[38;5;250m \u001b[39m\u001b[38;5;28;01mas\u001b[39;00m\u001b[38;5;250m \u001b[39m\u001b[34;01mpd\u001b[39;00m\n\u001b[32m      2\u001b[39m \u001b[38;5;28;01mimport\u001b[39;00m\u001b[38;5;250m \u001b[39m\u001b[34;01mnumpy\u001b[39;00m\u001b[38;5;250m \u001b[39m\u001b[38;5;28;01mas\u001b[39;00m\u001b[38;5;250m \u001b[39m\u001b[34;01mnp\u001b[39;00m\n\u001b[32m----> \u001b[39m\u001b[32m3\u001b[39m \u001b[38;5;28;01mfrom\u001b[39;00m\u001b[38;5;250m \u001b[39m\u001b[34;01msklearn\u001b[39;00m\u001b[34;01m.\u001b[39;00m\u001b[34;01mpreprocessing\u001b[39;00m\u001b[38;5;250m \u001b[39m\u001b[38;5;28;01mimport\u001b[39;00m StandardScaler, MinMaxScaler\n\u001b[32m      4\u001b[39m \u001b[38;5;28;01mfrom\u001b[39;00m\u001b[38;5;250m \u001b[39m\u001b[34;01msklearn\u001b[39;00m\u001b[34;01m.\u001b[39;00m\u001b[34;01mmodel_selection\u001b[39;00m\u001b[38;5;250m \u001b[39m\u001b[38;5;28;01mimport\u001b[39;00m train_test_split, GridSearchCV, KFold\n\u001b[32m      5\u001b[39m \u001b[38;5;28;01mfrom\u001b[39;00m\u001b[38;5;250m \u001b[39m\u001b[34;01msklearn\u001b[39;00m\u001b[34;01m.\u001b[39;00m\u001b[34;01mneighbors\u001b[39;00m\u001b[38;5;250m \u001b[39m\u001b[38;5;28;01mimport\u001b[39;00m KNeighborsClassifier\n",
      "\u001b[31mModuleNotFoundError\u001b[39m: No module named 'sklearn'"
     ]
    }
   ],
   "source": [
    "import pandas as pd\n",
    "import numpy as np\n",
    "from sklearn.preprocessing import StandardScaler, MinMaxScaler\n",
    "from sklearn.model_selection import train_test_split, GridSearchCV, KFold\n",
    "from sklearn.neighbors import KNeighborsClassifier\n",
    "from sklearn.svm import SVC\n",
    "from sklearn.metrics import classification_report, confusion_matrix, recall_score, f1_score\n",
    "from sklearn.ensemble import RandomForestClassifier\n",
    "from sklearn.metrics import accuracy_score, confusion_matrix, precision_score, recall_score, f1_score, ConfusionMatrixDisplay\n",
    "from sklearn.model_selection import RandomizedSearchCV, train_test_split\n",
    "from scipy.stats import randint"
   ]
  },
  {
   "cell_type": "markdown",
   "metadata": {},
   "source": [
    "# Pre-Processing"
   ]
  },
  {
   "cell_type": "code",
   "execution_count": null,
   "metadata": {},
   "outputs": [],
   "source": [
    "df = pd.read_csv('downsized_dataset.csv')\n",
    "df.head()"
   ]
  },
  {
   "cell_type": "code",
   "execution_count": null,
   "metadata": {},
   "outputs": [],
   "source": [
    "print(df.shape)\n",
    "print(df.isna().sum())"
   ]
  },
  {
   "cell_type": "code",
   "execution_count": 14,
   "metadata": {},
   "outputs": [],
   "source": [
    "x = df.drop('status', axis = 1)\n",
    "y = df['status']\n",
    "x_train, x_test, y_train, y_test = train_test_split(x, y , random_state = 2, test_size=0.3)"
   ]
  },
  {
   "cell_type": "markdown",
   "metadata": {},
   "source": [
    "# Models"
   ]
  },
  {
   "cell_type": "markdown",
   "metadata": {},
   "source": [
    "## Random Forest"
   ]
  },
  {
   "cell_type": "code",
   "execution_count": 16,
   "metadata": {},
   "outputs": [],
   "source": [
    "# Define the parameter grid to search\n",
    "param_grid = {\n",
    "    'n_estimators': [100, 200, 300],\n",
    "    'max_depth': [None, 10, 20],\n",
    "    'min_samples_split': [2, 5, 10],\n",
    "    'min_samples_leaf': [1, 2, 4, 6, 8]\n",
    "}\n",
    "\n",
    "# Initialize Random Forest classifier\n",
    "random_forest = RandomForestClassifier(random_state=4, class_weight='balanced')\n",
    "\n",
    "kf = KFold(n_splits = 5, shuffle = True, random_state = 10)\n",
    "\n",
    "# Initialize GridSearchCV\n",
    "grid_search_RF = GridSearchCV(estimator=random_forest, param_grid=param_grid, cv=kf, n_jobs=-1, verbose=2)"
   ]
  },
  {
   "cell_type": "code",
   "execution_count": null,
   "metadata": {},
   "outputs": [],
   "source": [
    "grid_search_RF.fit(x_train, y_train)\n",
    "\n",
    "RF_standard_noFeaturesRemoved_best_params = grid_search_RF.best_params_\n",
    "RF_standard_noFeaturesRemoved_best_score = grid_search_RF.best_score_\n",
    "\n",
    "print('Optimal number of params:', RF_standard_noFeaturesRemoved_best_params)\n",
    "print('Best score:', RF_standard_noFeaturesRemoved_best_score)"
   ]
  },
  {
   "cell_type": "code",
   "execution_count": null,
   "metadata": {},
   "outputs": [],
   "source": [
    "# Predict on the test set\n",
    "y_pred_rf = grid_search_RF.predict(x_test)\n",
    "\n",
    "# Evaluate the model\n",
    "accuracy_rf_1 = accuracy_score(y_test, y_pred_rf)\n",
    "print(\"Accuracy of Random Forest classifier:\", accuracy_rf_1)\n",
    "recall_rf_1 = recall_score(y_test, y_pred_rf)\n",
    "print(\"Recall of Random Forest classifier:\", recall_rf_1)\n",
    "f1score_rf_1 = f1_score(y_test, y_pred_rf)\n",
    "print(\"F1 Score of Random Forest classifier:\", f1score_rf_1)\n",
    "\n",
    "# Display classification report and confusion matrix\n",
    "print(\"Classification Report:\")\n",
    "print(classification_report(y_test, y_pred_rf))\n",
    "print(\"Confusion Matrix:\")\n",
    "print(confusion_matrix(y_test, y_pred_rf))"
   ]
  },
  {
   "cell_type": "markdown",
   "metadata": {},
   "source": [
    "## SVM"
   ]
  },
  {
   "cell_type": "code",
   "execution_count": 19,
   "metadata": {},
   "outputs": [],
   "source": [
    "svm = SVC()\n",
    "\n",
    "kf = KFold(n_splits = 5, shuffle = True, random_state = 42)\n",
    "param_grid = {'C': [0.0001, 0.001, 0.1, 1],\n",
    "              'gamma': [0.01, 0.1, 1, 10],\n",
    "              'kernel': ['linear', 'rbf']}\n",
    "\n",
    "svm_gridsearchcv = GridSearchCV(svm, param_grid, cv=kf )"
   ]
  },
  {
   "cell_type": "code",
   "execution_count": null,
   "metadata": {},
   "outputs": [],
   "source": [
    "svm_gridsearchcv.fit(x_train, y_train)\n",
    "\n",
    "svm_standard_noFeaturesRemoved_best_params = svm_gridsearchcv.best_params_\n",
    "svm_standard_noFeaturesRemoved_best_score = svm_gridsearchcv.best_score_\n",
    "\n",
    "print('Optimal params:', svm_standard_noFeaturesRemoved_best_params)\n",
    "print('Best score:', svm_standard_noFeaturesRemoved_best_score)"
   ]
  },
  {
   "cell_type": "code",
   "execution_count": null,
   "metadata": {},
   "outputs": [],
   "source": [
    "y_pred = svm_gridsearchcv.predict(x_test)\n",
    "\n",
    "svm_standard_noFeaturesRemoved_accuracy_score = svm_gridsearchcv.score(x_test, y_test)\n",
    "print('Accuracy of SVM classifier:', svm_standard_noFeaturesRemoved_accuracy_score)\n",
    "\n",
    "svm_standard_noFeaturesRemoved_recall_score = recall_score(y_test, y_pred)\n",
    "print(\"Recall of SVM classifier:\", svm_standard_noFeaturesRemoved_recall_score)\n",
    "\n",
    "svm_standard_noFeaturesRemoved_f1_score = f1_score(y_test, y_pred)\n",
    "print(\"F1 of SVM:\", svm_standard_noFeaturesRemoved_f1_score)\n",
    "\n",
    "print('\\nConfusion Matrix:')\n",
    "print(confusion_matrix(y_test, y_pred))\n",
    "print('\\nClassification Report:')\n",
    "print(classification_report(y_test, y_pred))"
   ]
  },
  {
   "cell_type": "markdown",
   "metadata": {},
   "source": [
    "# Logistic Regression"
   ]
  },
  {
   "cell_type": "code",
   "execution_count": 22,
   "metadata": {},
   "outputs": [],
   "source": [
    "from sklearn.linear_model import LogisticRegression\n",
    "from sklearn.model_selection import train_test_split, GridSearchCV\n",
    "from sklearn.metrics import accuracy_score, confusion_matrix\n",
    "from scipy.stats import uniform"
   ]
  },
  {
   "cell_type": "code",
   "execution_count": 23,
   "metadata": {},
   "outputs": [],
   "source": [
    "logistic_regression = LogisticRegression(max_iter=1000)\n",
    "\n",
    "param_grid = [\n",
    "    {'solver' : ['newton-cg'],\n",
    "      'penalty' : ['l2'],\n",
    "      'max_iter' : [50,100,200,500,1000,2500],\n",
    "      'C' : [0.001, 0.01, 0.1, 1, 10, 100, 1000]},\n",
    "]\n",
    "\n",
    "kf = KFold(n_splits = 5, shuffle = True, random_state = 4)\n",
    "\n",
    "logistic_regression_grid_search = GridSearchCV(logistic_regression, param_grid=param_grid, cv=kf, error_score='raise')"
   ]
  },
  {
   "cell_type": "code",
   "execution_count": null,
   "metadata": {},
   "outputs": [],
   "source": [
    "logistic_regression_grid_search.fit(x_train, y_train)\n",
    "\n",
    "logistic_regression_standard_noFeaturesRemoved_best_params = logistic_regression_grid_search.best_params_\n",
    "logistic_regression_standard_noFeaturesRemoved_best_score = logistic_regression_grid_search.best_score_\n",
    "\n",
    "print('Optimal number of params:', logistic_regression_standard_noFeaturesRemoved_best_params)\n",
    "print('Best score:', logistic_regression_standard_noFeaturesRemoved_best_score)"
   ]
  },
  {
   "cell_type": "code",
   "execution_count": null,
   "metadata": {},
   "outputs": [],
   "source": [
    "# Predict on the test set\n",
    "y_pred_logistic_regression = logistic_regression_grid_search.predict(x_test)\n",
    "\n",
    "# Evaluate the model\n",
    "accuracy_logreg_1 = accuracy_score(y_test, y_pred_logistic_regression)\n",
    "print(\"Accuracy of Logistic Regression classifier:\", accuracy_logreg_1)\n",
    "recall_logreg_1 = recall_score(y_test, y_pred_logistic_regression)\n",
    "print(\"Recall of Logistic Regression classifier:\", recall_logreg_1)\n",
    "f1score_logreg_1 = f1_score(y_test, y_pred_logistic_regression)\n",
    "print(\"F1 Score of Logistic Regression classifier:\", f1score_logreg_1)\n",
    "\n",
    "# Display classification report and confusion matrix\n",
    "print(\"Classification Report:\")\n",
    "print(classification_report(y_test, y_pred_logistic_regression))\n",
    "print(\"Confusion Matrix:\")\n",
    "print(confusion_matrix(y_test, y_pred_logistic_regression))"
   ]
  }
 ],
 "metadata": {
  "kernelspec": {
   "display_name": "Python 3",
   "language": "python",
   "name": "python3"
  },
  "language_info": {
   "codemirror_mode": {
    "name": "ipython",
    "version": 3
   },
   "file_extension": ".py",
   "mimetype": "text/x-python",
   "name": "python",
   "nbconvert_exporter": "python",
   "pygments_lexer": "ipython3",
   "version": "3.11.4"
  }
 },
 "nbformat": 4,
 "nbformat_minor": 2
}
